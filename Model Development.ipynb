{
 "cells": [
  {
   "cell_type": "code",
   "execution_count": null,
   "id": "7451f9b8",
   "metadata": {},
   "outputs": [],
   "source": [
    "import os\n",
    "from IPython.display import display\n",
    "os.environ['KMP_DUPLICATE_LIB_OK'] = 'TRUE'\n",
    "from onekey_algo import OnekeyDS as okds\n",
    "from onekey_algo import get_param_in_cwd\n",
    "\n",
    "os.makedirs('img', exist_ok=True)\n",
    "os.makedirs('results', exist_ok=True)\n",
    "os.makedirs('features', exist_ok=True)\n",
    "\n",
    "task_type = 'Radiomics_'\n",
    "\n",
    "mydir = get_param_in_cwd('radio_dir')\n",
    "if mydir == okds.ct:\n",
    "    print(f'data：{okds.ct}')\n",
    "\n",
    "\n",
    "labelf = get_param_in_cwd('label_file')\n",
    "\n",
    "labels = [get_param_in_cwd('task_column') or 'label']\n",
    "\n",
    "group_info = get_param_in_cwd('dataset_column')"
   ]
  },
  {
   "cell_type": "code",
   "execution_count": null,
   "id": "79b88fd9",
   "metadata": {},
   "outputs": [],
   "source": [
    "import warnings\n",
    "import pandas as pd\n",
    " \n",
    "warnings.filterwarnings(\"ignore\")\n",
    "\n",
    "from onekey_algo.custom.components.Radiology import ConventionalRadiomics\n",
    "\n",
    "rad_ = None\n",
    "param_file = ('exampleCT.yaml')\n",
    "\n",
    "if os.path.exists(f'features/rad_features.csv'):\n",
    "    rad_data = pd.read_csv(f'features/rad_features.csv', header=0)\n",
    "else:\n",
    "    images, masks = get_image_mask_from_dir(os.path.join(mydir), images='images', masks='masks')\n",
    "    radiomics = ConventionalRadiomics(param_file, correctMask=True)\n",
    "    radiomics.extract(images, masks, workers=12, labels=1, with_fd=get_param_in_cwd('with_fd', False))\n",
    "    rad_data = radiomics.get_label_data_frame(label=1)\n",
    "    rad_data.columns = [f\"{c.replace('-', '_')}\" if c != 'ID' else 'ID' for c in rad_data.columns]\n",
    "    rad_data.to_csv(f'features/rad_features.csv', header=True, index=False)\n",
    "if rad_ is None:\n",
    "    rad_ = rad_data\n",
    "else:\n",
    "    rad_ = pd.merge(rad_, rad_data, on='ID', how='inner')\n",
    "rad_data = rad_\n",
    "rad_data"
   ]
  },
  {
   "cell_type": "code",
   "execution_count": null,
   "id": "8be097e1",
   "metadata": {
    "scrolled": true
   },
   "outputs": [],
   "source": [
    "import matplotlib.pyplot as plt\n",
    "sorted_counts = pd.DataFrame([c.split('_')[-1] for c in rad_data.columns if c !='ID']).value_counts()\n",
    "sorted_counts = pd.DataFrame(sorted_counts, columns=['count']).reset_index()\n",
    "sorted_counts = sorted_counts.sort_values(0)\n",
    "display(sorted_counts)\n",
    "plt.pie(sorted_counts['count'], labels=[i for i in sorted_counts[0]], startangle=0,\n",
    "        counterclock = False, autopct = '%.1f%%')\n",
    "plt.savefig(f'img/{task_type}feature_ratio.svg', bbox_inches = 'tight')"
   ]
  },
  {
   "cell_type": "code",
   "execution_count": null,
   "id": "6503b076",
   "metadata": {},
   "outputs": [],
   "source": [
    "label_data = pd.read_csv(labelf)\n",
    "label_data['ID'] = label_data['ID'].map(lambda x: f\"{x}.nii.gz\" if not (f\"{x}\".endswith('.nii.gz') or  f\"{x}\".endswith('.nii')) else x)\n",
    "label_data"
   ]
  },
  {
   "cell_type": "code",
   "execution_count": null,
   "id": "e1de1e4e",
   "metadata": {},
   "outputs": [],
   "source": [
    "from onekey_algo.custom.utils import print_join_info\n",
    "\n",
    "print_join_info(rad_data, label_data)\n",
    "combined_data = pd.merge(rad_data, label_data, on=['ID'], how='inner')\n",
    "ids = combined_data['ID']\n",
    "combined_data = combined_data.drop(['ID'], axis=1)\n",
    "print(combined_data[labels].value_counts())\n",
    "combined_data.columns"
   ]
  },
  {
   "cell_type": "code",
   "execution_count": null,
   "id": "fa5c306d",
   "metadata": {},
   "outputs": [],
   "source": [
    "combined_data.describe()"
   ]
  },
  {
   "cell_type": "code",
   "execution_count": null,
   "id": "33fe3d76",
   "metadata": {},
   "outputs": [],
   "source": [
    "from onekey_algo.custom.components.comp1 import normalize_df\n",
    "data = normalize_df(combined_data, not_norm=labels, group=group_info, use_train=True)\n",
    "data = data.dropna(axis=1)\n",
    "data.describe()"
   ]
  },
  {
   "cell_type": "code",
   "execution_count": null,
   "id": "20f0e44a",
   "metadata": {
    "scrolled": false
   },
   "outputs": [],
   "source": [
    "import seaborn as sns\n",
    "from onekey_algo.custom.components.stats import clinic_stats\n",
    "\n",
    "sub_data = data[data['group'] == 'train']\n",
    "stats = clinic_stats(sub_data, stats_columns=list(data.columns[0:-2]), label_column=labels[0], \n",
    "                     continuous_columns=list(data.columns[0:-2]), verbose=False)\n",
    "stats"
   ]
  },
  {
   "cell_type": "code",
   "execution_count": null,
   "id": "6aaf8a94",
   "metadata": {},
   "outputs": [],
   "source": [
    "import matplotlib.pyplot as plt\n",
    "\n",
    "def map2float(x):\n",
    "    try:\n",
    "        return float(str(x)[1:])\n",
    "    except:\n",
    "        return 1\n",
    "\n",
    "stats[['pvalue']] = stats[['pvalue']].applymap(map2float)\n",
    "stats[['group']] = stats[['feature_name']].applymap(lambda x: x.split('_')[-2])\n",
    "stats = stats[['feature_name', 'pvalue', 'group']]\n",
    "g = sns.catplot(x=\"group\", y=\"pvalue\", data=stats, kind=\"violin\")\n",
    "g.fig.set_size_inches(15,10)\n",
    "sns.stripplot(x=\"group\", y=\"pvalue\", data=stats, ax=g.ax, color='black')\n",
    "plt.savefig(f'img/{task_type}feature_stats.svg', bbox_inches = 'tight')"
   ]
  },
  {
   "cell_type": "code",
   "execution_count": null,
   "id": "eaab2864",
   "metadata": {},
   "outputs": [],
   "source": [
    "pvalue = get_param_in_cwd('p_value', 0.05)\n",
    "sel_feature = list(stats[stats['pvalue'] < pvalue]['feature_name']) + labels + [group_info]\n",
    "data = data[sel_feature]\n",
    "data"
   ]
  },
  {
   "cell_type": "code",
   "execution_count": null,
   "id": "979a9aeb",
   "metadata": {},
   "outputs": [],
   "source": [
    "spearman_corr = data[[c for c in data.columns if c not in labels]].corr('spearman')"
   ]
  },
  {
   "cell_type": "code",
   "execution_count": null,
   "id": "4fe3df7d",
   "metadata": {},
   "outputs": [],
   "source": [
    "from onekey_algo.custom.components.comp1 import select_feature, select_feature_mrmr\n",
    "sel_feature = select_feature(spearman_corr, threshold=0.9, topn=128, verbose=False)\n",
    "if get_param_in_cwd('mrmr_sel_feature_num', None) is not None:\n",
    "    num_features = min(len(sel_feature), get_param_in_cwd('mrmr_sel_feature_num'))\n",
    "    sel_feature = select_feature_mrmr(data[data['group'] == 'train'][sel_feature + labels], num_features=num_features)\n",
    "sel_feature += labels + [group_info]\n",
    "sel_feature"
   ]
  },
  {
   "cell_type": "code",
   "execution_count": null,
   "id": "86e09b3f",
   "metadata": {},
   "outputs": [],
   "source": [
    "sel_data = data[sel_feature]\n",
    "sel_data.describe()"
   ]
  },
  {
   "cell_type": "code",
   "execution_count": null,
   "id": "4a923e73",
   "metadata": {},
   "outputs": [],
   "source": [
    "import numpy as np\n",
    "import onekey_algo.custom.components as okcomp\n",
    "\n",
    "n_classes = 2\n",
    "train_data = sel_data[(sel_data[group_info] == 'train')]\n",
    "train_ids = ids[train_data.index]\n",
    "train_data = train_data.reset_index()\n",
    "train_data = train_data.drop('index', axis=1)\n",
    "y_data = train_data[labels]\n",
    "X_data = train_data.drop(labels + [group_info], axis=1)\n",
    "\n",
    "test_data = sel_data[sel_data[group_info] != 'train']\n",
    "test_ids = ids[test_data.index]\n",
    "test_data = test_data.reset_index()\n",
    "test_data = test_data.drop('index', axis=1)\n",
    "y_test_data = test_data[labels]\n",
    "X_test_data = test_data.drop(labels + [group_info], axis=1)\n",
    "\n",
    "y_all_data = sel_data[labels]\n",
    "X_all_data = sel_data.drop(labels + [group_info], axis=1)\n",
    "\n",
    "column_names = X_data.columns\n",
    "print(f\"training：{X_data.shape}, test：{X_test_data.shape}\")"
   ]
  },
  {
   "cell_type": "code",
   "execution_count": null,
   "id": "28efd09a",
   "metadata": {},
   "outputs": [],
   "source": [
    "alpha = okcomp.comp1.lasso_cv_coefs(X_data, y_data, column_names=None, ensure_lastn=-40)\n",
    "plt.savefig(f'img/{task_type}feature_lasso.svg', bbox_inches = 'tight')"
   ]
  },
  {
   "cell_type": "code",
   "execution_count": null,
   "id": "ca62636c",
   "metadata": {},
   "outputs": [],
   "source": [
    "okcomp.comp1.lasso_cv_efficiency(X_data, y_data, points=50, y_major_locator=0.1)\n",
    "plt.savefig(f'img/{task_type}feature_mse.svg', bbox_inches = 'tight')"
   ]
  },
  {
   "cell_type": "code",
   "execution_count": null,
   "id": "6f29840a",
   "metadata": {},
   "outputs": [],
   "source": [
    "from sklearn import linear_model\n",
    "\n",
    "models = []\n",
    "for label in labels:\n",
    "    clf = linear_model.Lasso(alpha=alpha)\n",
    "    clf.fit(X_data, y_data[label])\n",
    "    models.append(clf)"
   ]
  },
  {
   "cell_type": "code",
   "execution_count": null,
   "id": "e787ee17",
   "metadata": {},
   "outputs": [],
   "source": [
    "COEF_THRESHOLD = 1e-6\n",
    "scores = []\n",
    "selected_features = []\n",
    "for label, model in zip(labels, models):\n",
    "    feat_coef = [(feat_name, coef) for feat_name, coef in zip(column_names, model.coef_) \n",
    "                 if COEF_THRESHOLD is None or abs(coef) > COEF_THRESHOLD]\n",
    "    selected_features.append([feat for feat, _ in feat_coef])\n",
    "    formula = ' '.join([f\"{coef:+.6f} * {feat_name}\" for feat_name, coef in feat_coef])\n",
    "    score = f\"{label} = {model.intercept_} {'+' if formula[0] != '-' else ''} {formula}\"\n",
    "    scores.append(score)\n",
    "    \n",
    "print(scores[0])"
   ]
  },
  {
   "cell_type": "code",
   "execution_count": null,
   "id": "26a22e86",
   "metadata": {},
   "outputs": [],
   "source": [
    "feat_coef = sorted(feat_coef, key=lambda x: x[1])\n",
    "feat_coef_df = pd.DataFrame(feat_coef, columns=['feature_name', 'Coefficients'])\n",
    "feat_coef_df.plot(x='feature_name', y='Coefficients', kind='barh')\n",
    "\n",
    "plt.savefig(f'img/{task_type}feature_weights.svg', bbox_inches = 'tight')"
   ]
  },
  {
   "cell_type": "code",
   "execution_count": null,
   "id": "10064550",
   "metadata": {},
   "outputs": [],
   "source": [
    "X_data = X_data[selected_features[0]]\n",
    "X_test_data = X_test_data[selected_features[0]]\n",
    "X_data.columns"
   ]
  },
  {
   "cell_type": "code",
   "execution_count": null,
   "id": "fbab32fa",
   "metadata": {},
   "outputs": [],
   "source": [
    "from sklearn.ensemble import ExtraTreesClassifier, RandomForestClassifier, AdaBoostClassifier, GradientBoostingClassifier\n",
    "from sklearn.neural_network import MLPClassifier\n",
    "from xgboost import XGBClassifier\n",
    "from lightgbm import LGBMClassifier\n",
    "from sklearn.linear_model import LogisticRegression\n",
    "from sklearn.svm import SVC\n",
    "\n",
    "model_names = get_param_in_cwd('ml_models')\n",
    "models = okcomp.comp1.create_clf_model_none_overfit(model_names)\n",
    "\n",
    "models['SVM'] = SVC(probability=True, max_iter=100)\n",
    "models['RandomForest'] = RandomForestClassifier(n_estimators=50, max_depth=3,\n",
    "                                                    min_samples_split=4, random_state=0)\n",
    "models['XGBoost'] = XGBClassifier(n_estimators=100, objective='binary:logistic', max_depth=3, min_child_weight=.2,\n",
    "                                          use_label_encoder=False, eval_metric='error')\n",
    "models['LightGBM'] = LGBMClassifier(n_estimators=20,  max_depth=4, min_child_weight=0.5,)\n",
    "models['ExtraTrees'] = ExtraTreesClassifier(n_estimators=60, max_depth=5, min_samples_split=2, random_state=0)\n",
    "models['GradientBoosting'] = GradientBoostingClassifier(n_estimators=10, random_state=0)\n",
    "models['AdaBoost'] = AdaBoostClassifier(n_estimators=10, random_state=0)\n",
    "model_names = list(models.keys())"
   ]
  },
  {
   "cell_type": "code",
   "execution_count": null,
   "id": "7bedcf86",
   "metadata": {},
   "outputs": [],
   "source": [
    "import seaborn as sns\n",
    "import matplotlib.pyplot as plt\n",
    "import pandas as pd\n",
    "from sklearn.metrics import accuracy_score, roc_auc_score\n",
    "\n",
    "results = okcomp.comp1.get_bst_split(X_data, y_data, models, test_size=0.2, metric_fn=roc_auc_score, n_trails=5, cv=True, random_state=0)\n",
    "_, (X_train_sel, X_test_sel, y_train_sel, y_test_sel) = results['results'][results['max_idx']]\n",
    "X_train_sel, X_test_sel, y_train_sel, y_test_sel = X_data, X_test_data, y_data, y_test_data\n",
    "trails, _ = zip(*results['results'])\n",
    "cv_results = pd.DataFrame(trails, columns=model_names)\n",
    "\n",
    "sns.boxplot(data=cv_results)\n",
    "plt.ylabel('AUC %')\n",
    "plt.xlabel('Model Name')\n",
    "plt.savefig(f'img/{task_type}model_cv.svg', bbox_inches = 'tight')"
   ]
  },
  {
   "cell_type": "code",
   "execution_count": null,
   "id": "7158f70a",
   "metadata": {
    "scrolled": true
   },
   "outputs": [],
   "source": [
    "import joblib\n",
    "from onekey_algo.custom.components.comp1 import plot_feature_importance, plot_learning_curve, smote_resample\n",
    "\n",
    "from sklearn.ensemble import ExtraTreesClassifier, RandomForestClassifier, AdaBoostClassifier, GradientBoostingClassifier\n",
    "from sklearn.neural_network import MLPClassifier\n",
    "from xgboost import XGBClassifier\n",
    "from lightgbm import LGBMClassifier\n",
    "from sklearn.linear_model import LogisticRegression\n",
    "from sklearn.svm import SVC\n",
    "from sklearn.neural_network import MLPClassifier\n",
    "\n",
    "targets = []\n",
    "os.makedirs('models', exist_ok=True)\n",
    "for l in labels:\n",
    "    new_models = okcomp.comp1.create_clf_model_none_overfit(model_names)\n",
    "    new_models['SVM'] = SVC(probability=True, max_iter=100, kernel='linear')\n",
    "    new_models['RandomForest'] = RandomForestClassifier(n_estimators=5, max_depth=3,\n",
    "                                                        min_samples_split=4, random_state=0)\n",
    "    new_models['XGBoost'] = XGBClassifier(n_estimators=6, objective='binary:logistic', max_depth=3, min_child_weight=.2,\n",
    "                                              use_label_encoder=False, eval_metric='error')\n",
    "    new_models['LightGBM'] = LGBMClassifier(n_estimators=2,  max_depth=1, min_child_weight=0.5,)\n",
    "    new_models['ExtraTrees'] = ExtraTreesClassifier(n_estimators=60, max_depth=5, min_samples_split=2, random_state=0)\n",
    "    new_models['GradientBoosting'] = GradientBoostingClassifier(n_estimators=10, random_state=0)\n",
    "    new_models['AdaBoost'] = AdaBoostClassifier(n_estimators=10, random_state=0)\n",
    "    model_names = list(new_models.keys())\n",
    "    new_models = list(new_models.values())\n",
    "    \n",
    "    for mn, m in zip(model_names, new_models):\n",
    "        X_train_smote, y_train_smote = X_train_sel, y_train_sel\n",
    "        joblib.dump(m, f'models/{task_type}{mn}_{l}.pkl') \n",
    "        plt.show()\n",
    "    targets.append(new_models)"
   ]
  },
  {
   "cell_type": "code",
   "execution_count": null,
   "id": "ba87adcf",
   "metadata": {},
   "outputs": [],
   "source": [
    "from sklearn.metrics import accuracy_score\n",
    "from sklearn.preprocessing import OneHotEncoder\n",
    "from onekey_algo.custom.components.delong import calc_95_CI\n",
    "from onekey_algo.custom.components.metrics import analysis_pred_binary\n",
    "\n",
    "predictions = [[(model.predict(X_train_sel), model.predict(X_test_sel)) \n",
    "                for model in target] for label, target in zip(labels, targets)]\n",
    "pred_scores = [[(model.predict_proba(X_train_sel), model.predict_proba(X_test_sel)) \n",
    "                for model in target] for label, target in zip(labels, targets)]\n",
    "\n",
    "metric = []\n",
    "pred_sel_idx = []\n",
    "for label, prediction, scores in zip(labels, predictions, pred_scores):\n",
    "    pred_sel_idx_label = []\n",
    "    for mname, (train_pred, test_pred), (train_score, test_score) in zip(model_names, prediction, scores):\n",
    "\n",
    "        acc, auc, ci, tpr, tnr, ppv, npv, precision, recall, f1, thres = analysis_pred_binary(y_train_sel[label], \n",
    "                                                                                              train_score[:, 1])\n",
    "        ci = f\"{ci[0]:.4f} - {ci[1]:.4f}\"\n",
    "        metric.append((mname, acc, auc, ci, tpr, tnr, ppv, npv, precision, recall, f1, thres, f\"train\"))\n",
    "                 \n",
    "\n",
    "        acc, auc, ci, tpr, tnr, ppv, npv, precision, recall, f1, thres = analysis_pred_binary(y_test_sel[label], \n",
    "                                                                                              test_score[:, 1])\n",
    "        ci = f\"{ci[0]:.4f} - {ci[1]:.4f}\"\n",
    "        metric.append((mname, acc, auc, ci, tpr, tnr, ppv, npv, precision, recall, f1, thres, f\"test\"))\n",
    "\n",
    "        pred_sel_idx_label.append(np.logical_or(test_score[:, 0] >= thres, test_score[:, 1] >= thres))\n",
    "    \n",
    "    pred_sel_idx.append(pred_sel_idx_label)\n",
    "metric = pd.DataFrame(metric, index=None, columns=['model_name', 'Accuracy', 'AUC', '95% CI',\n",
    "                                                   'Sensitivity', 'Specificity', \n",
    "                                                   'PPV', 'NPV', 'Precision', 'Recall', 'F1',\n",
    "                                                   'Threshold', 'Task'])\n",
    "metric"
   ]
  },
  {
   "cell_type": "code",
   "execution_count": null,
   "id": "71f86dcd",
   "metadata": {},
   "outputs": [],
   "source": [
    "import seaborn as sns\n",
    "\n",
    "plt.figure(figsize=(10, 10))\n",
    "plt.subplot(211)\n",
    "sns.barplot(x='model_name', y='Accuracy', data=metric, hue='Task')\n",
    "plt.subplot(212)\n",
    "sns.lineplot(x='model_name', y='Accuracy', data=metric, hue='Task')\n",
    "plt.savefig(f'img/{task_type}model_acc.svg', bbox_inches = 'tight')"
   ]
  },
  {
   "cell_type": "code",
   "execution_count": null,
   "id": "b610f5d0",
   "metadata": {},
   "outputs": [],
   "source": [
    "sel_model = model_names\n",
    "\n",
    "for sm in sel_model:\n",
    "    if sm in model_names:\n",
    "        sel_model_idx = model_names.index(sm)\n",
    "    \n",
    "        # Plot all ROC curves\n",
    "        plt.figure(figsize=(8, 8))\n",
    "        for pred_score, label in zip(pred_scores, labels):\n",
    "            okcomp.comp1.draw_roc([np.array(y_train_sel[label]), np.array(y_test_sel[label])], \n",
    "                                  pred_score[sel_model_idx], \n",
    "                                  labels=['Train', 'Test'], title=f\"Model: {sm}\")\n",
    "            plt.savefig(f'img/{task_type}model_{sm}_roc.svg', bbox_inches = 'tight')"
   ]
  },
  {
   "cell_type": "code",
   "execution_count": null,
   "id": "20e770a9",
   "metadata": {},
   "outputs": [],
   "source": [
    "sel_model = model_names\n",
    "\n",
    "for pred_score, label in zip(pred_scores, labels):\n",
    "    pred_test_scores = []\n",
    "    for sm in sel_model:\n",
    "        if sm in model_names:\n",
    "            sel_model_idx = model_names.index(sm)\n",
    "            pred_test_scores.append(pred_score[sel_model_idx][0])\n",
    "    okcomp.comp1.draw_roc([np.array(y_train_sel[label])] * len(pred_test_scores), \n",
    "                          pred_test_scores, \n",
    "                          labels=sel_model, title=f\"Model AUC\")\n",
    "    plt.savefig(f'img/{task_type}model_roc_train.svg', bbox_inches = 'tight')\n",
    "    plt.show()\n",
    "\n",
    "for pred_score, label in zip(pred_scores, labels):\n",
    "    pred_test_scores = []\n",
    "    for sm in sel_model:\n",
    "        if sm in model_names:\n",
    "            sel_model_idx = model_names.index(sm)\n",
    "            pred_test_scores.append(pred_score[sel_model_idx][1])\n",
    "    okcomp.comp1.draw_roc([np.array(y_test_sel[label])] * len(pred_test_scores), \n",
    "                          pred_test_scores, \n",
    "                          labels=sel_model, title=f\"Model AUC\")\n",
    "    plt.savefig(f'img/{task_type}model_roc_test.svg', bbox_inches = 'tight')"
   ]
  },
  {
   "cell_type": "code",
   "execution_count": null,
   "id": "8ab01b0b",
   "metadata": {},
   "outputs": [],
   "source": [
    "from onekey_algo.custom.components.comp1 import plot_DCA\n",
    "\n",
    "for pred_score, label in zip(pred_scores, labels):\n",
    "    pred_test_scores = []\n",
    "    for sm in sel_model:\n",
    "        if sm in model_names:\n",
    "            sel_model_idx = model_names.index(sm)\n",
    "            okcomp.comp1.plot_DCA(pred_score[sel_model_idx][0][:,1], np.array(y_train_sel[label]),\n",
    "                                  title=f'Model {sm} DCA')\n",
    "            plt.savefig(f'img/{task_type}model_{sm}_dca_train.svg', bbox_inches = 'tight')\n",
    "            plt.show()\n",
    "\n",
    "for pred_score, label in zip(pred_scores, labels):\n",
    "    pred_test_scores = []\n",
    "    for sm in sel_model:\n",
    "        if sm in model_names:\n",
    "            sel_model_idx = model_names.index(sm)\n",
    "            okcomp.comp1.plot_DCA(pred_score[sel_model_idx][1][:,1], np.array(y_test_sel[label]),\n",
    "                                  title=f'Model {sm} DCA')\n",
    "            plt.savefig(f'img/{task_type}model_{sm}_dca_test.svg', bbox_inches = 'tight')"
   ]
  },
  {
   "cell_type": "code",
   "execution_count": null,
   "id": "b5012998",
   "metadata": {},
   "outputs": [],
   "source": [
    "sel_model = model_names\n",
    "c_matrix = {}\n",
    "\n",
    "for sm in sel_model:\n",
    "    if sm in model_names:\n",
    "        sel_model_idx = model_names.index(sm)\n",
    "        for idx, label in enumerate(labels):\n",
    "            cm = okcomp.comp1.calc_confusion_matrix(predictions[idx][sel_model_idx][0], y_train_sel[label],\n",
    "#                                                     sel_idx = pred_sel_idx[idx][sel_model_idx],\n",
    "                                                    class_mapping={1:'1', 0:'0'}, num_classes=2)\n",
    "            c_matrix[label] = cm\n",
    "            plt.figure(figsize=(5, 4))\n",
    "            plt.title(f'Model:{sm}')\n",
    "            okcomp.comp1.draw_matrix(cm, norm=False, annot=True, cmap='Blues', fmt='.3g')\n",
    "            plt.savefig(f'img/{task_type}model_{sm}_cm_train.svg', bbox_inches = 'tight')\n",
    "\n",
    "for sm in sel_model:\n",
    "    if sm in model_names:\n",
    "        sel_model_idx = model_names.index(sm)\n",
    "        for idx, label in enumerate(labels):\n",
    "            cm = okcomp.comp1.calc_confusion_matrix(predictions[idx][sel_model_idx][-1], y_test_sel[label],\n",
    "#                                                     sel_idx = pred_sel_idx[idx][sel_model_idx],\n",
    "                                                    class_mapping={1:'1', 0:'0'}, num_classes=2)\n",
    "            c_matrix[label] = cm\n",
    "            plt.figure(figsize=(5, 4))\n",
    "            plt.title(f'Model:{sm}')\n",
    "            okcomp.comp1.draw_matrix(cm, norm=False, annot=True, cmap='Blues', fmt='.3g')\n",
    "            plt.savefig(f'img/{task_type}model_{sm}_cm_test.svg', bbox_inches = 'tight')"
   ]
  },
  {
   "cell_type": "code",
   "execution_count": null,
   "id": "a2a77b32",
   "metadata": {},
   "outputs": [],
   "source": [
    "sel_model = model_names\n",
    "c_matrix = {}\n",
    "\n",
    "for sm in sel_model:\n",
    "    if sm in model_names:\n",
    "        sel_model_idx = model_names.index(sm)\n",
    "        for idx, label in enumerate(labels):            \n",
    "            okcomp.comp1.draw_predict_score(pred_scores[idx][sel_model_idx][0], y_train_sel[label])\n",
    "            plt.title(f'{sm} sample predict score')\n",
    "            plt.legend(labels=[\"label=0\",\"label=1\"],loc=\"lower right\") \n",
    "            plt.savefig(f'img/{task_type}model_{sm}_sample_dis_train.svg', bbox_inches = 'tight')\n",
    "            plt.show()\n",
    "\n",
    "for sm in sel_model:\n",
    "    if sm in model_names:\n",
    "        sel_model_idx = model_names.index(sm)\n",
    "        for idx, label in enumerate(labels):            \n",
    "            okcomp.comp1.draw_predict_score(pred_scores[idx][sel_model_idx][-1], y_test_sel[label])\n",
    "            plt.title(f'{sm} sample predict score')\n",
    "            plt.legend(labels=[\"label=0\",\"label=1\"],loc=\"lower right\") \n",
    "            plt.savefig(f'img/{task_type}model_{sm}_sample_dis_test.svg', bbox_inches = 'tight')\n",
    "            plt.show()"
   ]
  },
  {
   "cell_type": "code",
   "execution_count": null,
   "id": "fa78e5eb",
   "metadata": {},
   "outputs": [],
   "source": [
    "import os\n",
    "import numpy as np\n",
    "\n",
    "os.makedirs('results', exist_ok=True)\n",
    "sel_model = sel_model\n",
    "\n",
    "for idx, label in enumerate(labels):\n",
    "    for sm in sel_model:\n",
    "        if sm in model_names:\n",
    "            sel_model_idx = model_names.index(sm)\n",
    "            target = targets[idx][sel_model_idx]\n",
    "\n",
    "            train_indexes = np.reshape(np.array(train_ids), (-1, 1)).astype(str)\n",
    "            test_indexes = np.reshape(np.array(test_ids), (-1, 1)).astype(str)\n",
    "            y_train_pred_scores = target.predict_proba(X_train_sel)\n",
    "            y_test_pred_scores = target.predict_proba(X_test_sel)\n",
    "            columns = ['ID'] + [f\"{label}-{i}\"for i in range(y_test_pred_scores.shape[1])]\n",
    "\n",
    "            result_train = pd.DataFrame(np.concatenate([train_indexes, y_train_pred_scores], axis=1), columns=columns)\n",
    "            result_train.to_csv(f'results/{task_type}{sm}_train.csv', index=False)\n",
    "            result_test = pd.DataFrame(np.concatenate([test_indexes, y_test_pred_scores], axis=1), columns=columns)\n",
    "            result_test.to_csv(f'results/{task_type}{sm}_test.csv', index=False)"
   ]
  }
 ],
 "metadata": {
  "kernelspec": {
   "display_name": "Python 3 (ipykernel)",
   "language": "python",
   "name": "python3"
  },
  "language_info": {
   "codemirror_mode": {
    "name": "ipython",
    "version": 3
   },
   "file_extension": ".py",
   "mimetype": "text/x-python",
   "name": "python",
   "nbconvert_exporter": "python",
   "pygments_lexer": "ipython3",
   "version": "3.7.12"
  }
 },
 "nbformat": 4,
 "nbformat_minor": 5
}
